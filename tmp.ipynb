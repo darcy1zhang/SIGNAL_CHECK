{
 "cells": [
  {
   "cell_type": "code",
   "execution_count": 3,
   "metadata": {},
   "outputs": [
    {
     "name": "stdout",
     "output_type": "stream",
     "text": [
      "(16399, 3615)\n",
      "30:30:f9:73:4c:34 30:30:f9:73:4c:98\n"
     ]
    }
   ],
   "source": [
    "import numpy as np\n",
    "from utils import int_to_mac\n",
    "\n",
    "data = np.load('./data/ID_104_10s_BSG_ECG_II_Labels.npy')\n",
    "print(data.shape)\n",
    "\n",
    "data_row = data[10]\n",
    "# bsg = data_row[:1000]\n",
    "# ecg = data_row[1000:3560]\n",
    "# ecg = resample(ecg, 1000)\n",
    "mac_bsg = data_row[-54]\n",
    "mac_ecg = mac_bsg + 100\n",
    "mac_bsg = int_to_mac(mac_bsg)\n",
    "mac_ecg = int_to_mac(mac_ecg)\n",
    "print(mac_bsg, mac_ecg)"
   ]
  },
  {
   "cell_type": "code",
   "execution_count": 6,
   "metadata": {},
   "outputs": [
    {
     "name": "stdout",
     "output_type": "stream",
     "text": [
      "Array size in memory: 27.58 MB\n"
     ]
    }
   ],
   "source": [
    "import numpy as np\n",
    "\n",
    "file_path = \"./data/ID_104_10s_BSG_ECG_II_Labels.npy\"\n",
    "data = np.load(file_path)\n",
    "data = data[:1000]\n",
    "np.save('./BSG_ECG.npy', data)\n",
    "\n",
    "size_in_bytes = data.nbytes  # 计算数组的字节大小\n",
    "print(f\"Array size in memory: {size_in_bytes / (1024**2):.2f} MB\")"
   ]
  }
 ],
 "metadata": {
  "kernelspec": {
   "display_name": "py39",
   "language": "python",
   "name": "python3"
  },
  "language_info": {
   "codemirror_mode": {
    "name": "ipython",
    "version": 3
   },
   "file_extension": ".py",
   "mimetype": "text/x-python",
   "name": "python",
   "nbconvert_exporter": "python",
   "pygments_lexer": "ipython3",
   "version": "3.9.19"
  }
 },
 "nbformat": 4,
 "nbformat_minor": 2
}
